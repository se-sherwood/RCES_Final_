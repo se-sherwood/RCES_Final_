{
 "cells": [
  {
   "cell_type": "markdown",
   "metadata": {},
   "source": [
    "# Cirrus Clouds in a Warming World"
   ]
  },
  {
   "cell_type": "markdown",
   "metadata": {},
   "source": [
    "### Background"
   ]
  },
  {
   "cell_type": "markdown",
   "metadata": {},
   "source": [
    "<div class=\"container\">\n",
    "     \n",
    "<img align=\"right\" width=\"500\" height=\"100\" src=\"https://upload.wikimedia.org/wikipedia/commons/thumb/5/57/Cloud_types_en.svg/2560px-Cloud_types_en.svg.png\" alt=\"Cloud Guide for Coton, Wikipedia Commons\" style=\"opacity:0.8;filter:alpha(opacity=80);\" />\n",
    "\n",
    "Cirrus clouds are high, wispy clouds that are believed to have a net warming effect. Much about cirrus clouds and their impact on the climate system is still not certain:\n",
    "\n",
    "   - will they increase?\n",
    "   - will their spatial/temporal distributions change?\n",
    "   \n",
    "Challenges in understanding cirrus clouds:\n",
    "   - clouds are difficult to model!\n",
    "   - varied crystal structures\n",
    "   - ice crystals orientations\n",
    "   - challenging to observe\n",
    "    \n",
    "MODIS satellite uses 1.375 \t&mu;m narrow band to detect cirrus reflectance. Data is available from 7/2002 to 9/2020.\n",
    "<div style=\"text-align: right\"> <i>from Coton Cloud Guide, accessed via Wikipedia Commons<i> </div>   \n",
    "\n",
    "   <font face = \"Garamond\" size = \"4\" ><center><b>Reflectance<sub>1.375</sub> = Reflected<sub>1.375</sub> / Incident<sub>1.375</sub><b> <center></font> \n",
    "  \n",
    "</div>   \n",
    "       \n",
    "**Question**: Has there been significant change in the total global cirrus reflectance, seasonal or latitudinal distribution of cirrus clouds?\n",
    "\n",
    "       \n",
    "    \n"
   ]
  },
  {
   "cell_type": "markdown",
   "metadata": {},
   "source": [
    "### Setting Up the Notebook & Organizing the Data"
   ]
  },
  {
   "cell_type": "code",
   "execution_count": 1,
   "metadata": {},
   "outputs": [],
   "source": [
    "import xarray as xr\n",
    "import numpy as np\n",
    "import scipy.stats as sp\n",
    "from matplotlib import pyplot as plt\n",
    "from datetime import datetime\n",
    "from datetime import timedelta\n",
    "from sklearn.linear_model import LinearRegression\n",
    "import warnings\n",
    "warnings.filterwarnings('ignore')\n",
    "\n",
    "%matplotlib inline\n",
    "plt.rcParams['figure.figsize'] = (12,8)\n",
    "%config InlineBackend.figure_format = 'retina'\n",
    "\n",
    "import cartopy.crs as ccrs\n",
    "import cartopy"
   ]
  },
  {
   "cell_type": "code",
   "execution_count": 2,
   "metadata": {},
   "outputs": [
    {
     "name": "stdout",
     "output_type": "stream",
     "text": [
      "Requirement already satisfied: fsspec==0.8.4 in /srv/conda/envs/notebook/lib/python3.7/site-packages (0.8.4)\n"
     ]
    }
   ],
   "source": [
    "!pip install fsspec==0.8.4"
   ]
  },
  {
   "cell_type": "code",
   "execution_count": 3,
   "metadata": {},
   "outputs": [
    {
     "name": "stdout",
     "output_type": "stream",
     "text": [
      "Collecting git+git://github.com/tjcrone/gdrivefs.git@540a55fae06cbed4f7d9f8d540ac29fcb640c38a\n",
      "  Cloning git://github.com/tjcrone/gdrivefs.git (to revision 540a55fae06cbed4f7d9f8d540ac29fcb640c38a) to /tmp/pip-req-build-xe5h502e\n",
      "Requirement already satisfied (use --upgrade to upgrade): gdrivefs==0+untagged.18.g540a55f from git+git://github.com/tjcrone/gdrivefs.git@540a55fae06cbed4f7d9f8d540ac29fcb640c38a in /srv/conda/envs/notebook/lib/python3.7/site-packages\n",
      "Requirement already satisfied: fsspec in /srv/conda/envs/notebook/lib/python3.7/site-packages (from gdrivefs==0+untagged.18.g540a55f) (0.8.4)\n",
      "Requirement already satisfied: google-api-python-client in /srv/conda/envs/notebook/lib/python3.7/site-packages (from gdrivefs==0+untagged.18.g540a55f) (1.12.8)\n",
      "Requirement already satisfied: google-auth-httplib2 in /srv/conda/envs/notebook/lib/python3.7/site-packages (from gdrivefs==0+untagged.18.g540a55f) (0.0.4)\n",
      "Requirement already satisfied: google-auth-oauthlib in /srv/conda/envs/notebook/lib/python3.7/site-packages (from gdrivefs==0+untagged.18.g540a55f) (0.4.1)\n",
      "Requirement already satisfied: pydata_google_auth in /srv/conda/envs/notebook/lib/python3.7/site-packages (from gdrivefs==0+untagged.18.g540a55f) (1.1.0)\n",
      "Requirement already satisfied: httplib2<1dev,>=0.15.0 in /srv/conda/envs/notebook/lib/python3.7/site-packages (from google-api-python-client->gdrivefs==0+untagged.18.g540a55f) (0.18.1)\n",
      "Requirement already satisfied: google-auth>=1.16.0 in /srv/conda/envs/notebook/lib/python3.7/site-packages (from google-api-python-client->gdrivefs==0+untagged.18.g540a55f) (1.21.1)\n",
      "Requirement already satisfied: six<2dev,>=1.13.0 in /srv/conda/envs/notebook/lib/python3.7/site-packages (from google-api-python-client->gdrivefs==0+untagged.18.g540a55f) (1.15.0)\n",
      "Requirement already satisfied: uritemplate<4dev,>=3.0.0 in /srv/conda/envs/notebook/lib/python3.7/site-packages (from google-api-python-client->gdrivefs==0+untagged.18.g540a55f) (3.0.1)\n",
      "Requirement already satisfied: google-api-core<2dev,>=1.21.0 in /srv/conda/envs/notebook/lib/python3.7/site-packages (from google-api-python-client->gdrivefs==0+untagged.18.g540a55f) (1.23.0)\n",
      "Requirement already satisfied: requests-oauthlib>=0.7.0 in /srv/conda/envs/notebook/lib/python3.7/site-packages (from google-auth-oauthlib->gdrivefs==0+untagged.18.g540a55f) (1.3.0)\n",
      "Requirement already satisfied: setuptools in /srv/conda/envs/notebook/lib/python3.7/site-packages (from pydata_google_auth->gdrivefs==0+untagged.18.g540a55f) (49.6.0.post20200814)\n",
      "Requirement already satisfied: cachetools<5.0,>=2.0.0 in /srv/conda/envs/notebook/lib/python3.7/site-packages (from google-auth>=1.16.0->google-api-python-client->gdrivefs==0+untagged.18.g540a55f) (4.1.1)\n",
      "Requirement already satisfied: rsa<5,>=3.1.4; python_version >= \"3.5\" in /srv/conda/envs/notebook/lib/python3.7/site-packages (from google-auth>=1.16.0->google-api-python-client->gdrivefs==0+untagged.18.g540a55f) (4.4.1)\n",
      "Requirement already satisfied: pyasn1-modules>=0.2.1 in /srv/conda/envs/notebook/lib/python3.7/site-packages (from google-auth>=1.16.0->google-api-python-client->gdrivefs==0+untagged.18.g540a55f) (0.2.7)\n",
      "Requirement already satisfied: requests<3.0.0dev,>=2.18.0 in /srv/conda/envs/notebook/lib/python3.7/site-packages (from google-api-core<2dev,>=1.21.0->google-api-python-client->gdrivefs==0+untagged.18.g540a55f) (2.24.0)\n",
      "Requirement already satisfied: googleapis-common-protos<2.0dev,>=1.6.0 in /srv/conda/envs/notebook/lib/python3.7/site-packages (from google-api-core<2dev,>=1.21.0->google-api-python-client->gdrivefs==0+untagged.18.g540a55f) (1.52.0)\n",
      "Requirement already satisfied: pytz in /srv/conda/envs/notebook/lib/python3.7/site-packages (from google-api-core<2dev,>=1.21.0->google-api-python-client->gdrivefs==0+untagged.18.g540a55f) (2020.1)\n",
      "Requirement already satisfied: protobuf>=3.12.0 in /srv/conda/envs/notebook/lib/python3.7/site-packages (from google-api-core<2dev,>=1.21.0->google-api-python-client->gdrivefs==0+untagged.18.g540a55f) (3.14.0)\n",
      "Requirement already satisfied: oauthlib>=3.0.0 in /srv/conda/envs/notebook/lib/python3.7/site-packages (from requests-oauthlib>=0.7.0->google-auth-oauthlib->gdrivefs==0+untagged.18.g540a55f) (3.0.1)\n",
      "Requirement already satisfied: pyasn1>=0.1.3 in /srv/conda/envs/notebook/lib/python3.7/site-packages (from rsa<5,>=3.1.4; python_version >= \"3.5\"->google-auth>=1.16.0->google-api-python-client->gdrivefs==0+untagged.18.g540a55f) (0.4.8)\n",
      "Requirement already satisfied: urllib3!=1.25.0,!=1.25.1,<1.26,>=1.21.1 in /srv/conda/envs/notebook/lib/python3.7/site-packages (from requests<3.0.0dev,>=2.18.0->google-api-core<2dev,>=1.21.0->google-api-python-client->gdrivefs==0+untagged.18.g540a55f) (1.25.10)\n",
      "Requirement already satisfied: certifi>=2017.4.17 in /srv/conda/envs/notebook/lib/python3.7/site-packages (from requests<3.0.0dev,>=2.18.0->google-api-core<2dev,>=1.21.0->google-api-python-client->gdrivefs==0+untagged.18.g540a55f) (2020.6.20)\n",
      "Requirement already satisfied: chardet<4,>=3.0.2 in /srv/conda/envs/notebook/lib/python3.7/site-packages (from requests<3.0.0dev,>=2.18.0->google-api-core<2dev,>=1.21.0->google-api-python-client->gdrivefs==0+untagged.18.g540a55f) (3.0.4)\n",
      "Requirement already satisfied: idna<3,>=2.5 in /srv/conda/envs/notebook/lib/python3.7/site-packages (from requests<3.0.0dev,>=2.18.0->google-api-core<2dev,>=1.21.0->google-api-python-client->gdrivefs==0+untagged.18.g540a55f) (2.10)\n",
      "Building wheels for collected packages: gdrivefs\n",
      "  Building wheel for gdrivefs (setup.py) ... \u001b[?25ldone\n",
      "\u001b[?25h  Created wheel for gdrivefs: filename=gdrivefs-0+untagged.18.g540a55f-py3-none-any.whl size=7302 sha256=61dcb16942551b369bab249d0bba3a09f4850e2d35debca27e2e45c1a3d1a4b6\n",
      "  Stored in directory: /home/jovyan/.cache/pip/wheels/15/4c/f1/4e7c595331abdbc521e37b85bfe0bac4d9ade7a651260cb97f\n",
      "Successfully built gdrivefs\n"
     ]
    },
    {
     "data": {
      "text/plain": [
       "''"
      ]
     },
     "execution_count": 3,
     "metadata": {},
     "output_type": "execute_result"
    }
   ],
   "source": [
    "!pip install 'git+git://github.com/tjcrone/gdrivefs.git@540a55fae06cbed4f7d9f8d540ac29fcb640c38a'\n",
    ";"
   ]
  },
  {
   "cell_type": "code",
   "execution_count": 4,
   "metadata": {},
   "outputs": [
    {
     "name": "stdout",
     "output_type": "stream",
     "text": [
      "Requirement already satisfied: paramiko in /srv/conda/envs/notebook/lib/python3.7/site-packages (2.7.2)\n",
      "Requirement already satisfied: pynacl>=1.0.1 in /srv/conda/envs/notebook/lib/python3.7/site-packages (from paramiko) (1.4.0)\n",
      "Requirement already satisfied: cryptography>=2.5 in /srv/conda/envs/notebook/lib/python3.7/site-packages (from paramiko) (3.1)\n",
      "Requirement already satisfied: bcrypt>=3.1.3 in /srv/conda/envs/notebook/lib/python3.7/site-packages (from paramiko) (3.2.0)\n",
      "Requirement already satisfied: six in /srv/conda/envs/notebook/lib/python3.7/site-packages (from pynacl>=1.0.1->paramiko) (1.15.0)\n",
      "Requirement already satisfied: cffi>=1.4.1 in /srv/conda/envs/notebook/lib/python3.7/site-packages (from pynacl>=1.0.1->paramiko) (1.14.1)\n",
      "Requirement already satisfied: pycparser in /srv/conda/envs/notebook/lib/python3.7/site-packages (from cffi>=1.4.1->pynacl>=1.0.1->paramiko) (2.20)\n"
     ]
    }
   ],
   "source": [
    "!pip install paramiko"
   ]
  },
  {
   "cell_type": "code",
   "execution_count": 5,
   "metadata": {},
   "outputs": [],
   "source": [
    "import gdrivefs\n",
    "#gdrivefs.__version__"
   ]
  },
  {
   "cell_type": "code",
   "execution_count": 6,
   "metadata": {},
   "outputs": [],
   "source": [
    "gdfid = '1kF5NUKTGXzoUXrAoB2NLkB5vStzT0F6X'\n",
    "gdfs = gdrivefs.GoogleDriveFileSystem(root_file_id=gdfid, token='cache')"
   ]
  },
  {
   "cell_type": "code",
   "execution_count": 7,
   "metadata": {},
   "outputs": [],
   "source": [
    "files = gdfs.ls('/')\n",
    "f = gdfs.open(files[0])"
   ]
  },
  {
   "cell_type": "code",
   "execution_count": 8,
   "metadata": {},
   "outputs": [
    {
     "data": {
      "text/html": [
       "<div><svg style=\"position: absolute; width: 0; height: 0; overflow: hidden\">\n",
       "<defs>\n",
       "<symbol id=\"icon-database\" viewBox=\"0 0 32 32\">\n",
       "<path d=\"M16 0c-8.837 0-16 2.239-16 5v4c0 2.761 7.163 5 16 5s16-2.239 16-5v-4c0-2.761-7.163-5-16-5z\"></path>\n",
       "<path d=\"M16 17c-8.837 0-16-2.239-16-5v6c0 2.761 7.163 5 16 5s16-2.239 16-5v-6c0 2.761-7.163 5-16 5z\"></path>\n",
       "<path d=\"M16 26c-8.837 0-16-2.239-16-5v6c0 2.761 7.163 5 16 5s16-2.239 16-5v-6c0 2.761-7.163 5-16 5z\"></path>\n",
       "</symbol>\n",
       "<symbol id=\"icon-file-text2\" viewBox=\"0 0 32 32\">\n",
       "<path d=\"M28.681 7.159c-0.694-0.947-1.662-2.053-2.724-3.116s-2.169-2.030-3.116-2.724c-1.612-1.182-2.393-1.319-2.841-1.319h-15.5c-1.378 0-2.5 1.121-2.5 2.5v27c0 1.378 1.122 2.5 2.5 2.5h23c1.378 0 2.5-1.122 2.5-2.5v-19.5c0-0.448-0.137-1.23-1.319-2.841zM24.543 5.457c0.959 0.959 1.712 1.825 2.268 2.543h-4.811v-4.811c0.718 0.556 1.584 1.309 2.543 2.268zM28 29.5c0 0.271-0.229 0.5-0.5 0.5h-23c-0.271 0-0.5-0.229-0.5-0.5v-27c0-0.271 0.229-0.5 0.5-0.5 0 0 15.499-0 15.5 0v7c0 0.552 0.448 1 1 1h7v19.5z\"></path>\n",
       "<path d=\"M23 26h-14c-0.552 0-1-0.448-1-1s0.448-1 1-1h14c0.552 0 1 0.448 1 1s-0.448 1-1 1z\"></path>\n",
       "<path d=\"M23 22h-14c-0.552 0-1-0.448-1-1s0.448-1 1-1h14c0.552 0 1 0.448 1 1s-0.448 1-1 1z\"></path>\n",
       "<path d=\"M23 18h-14c-0.552 0-1-0.448-1-1s0.448-1 1-1h14c0.552 0 1 0.448 1 1s-0.448 1-1 1z\"></path>\n",
       "</symbol>\n",
       "</defs>\n",
       "</svg>\n",
       "<style>/* CSS stylesheet for displaying xarray objects in jupyterlab.\n",
       " *\n",
       " */\n",
       "\n",
       ":root {\n",
       "  --xr-font-color0: var(--jp-content-font-color0, rgba(0, 0, 0, 1));\n",
       "  --xr-font-color2: var(--jp-content-font-color2, rgba(0, 0, 0, 0.54));\n",
       "  --xr-font-color3: var(--jp-content-font-color3, rgba(0, 0, 0, 0.38));\n",
       "  --xr-border-color: var(--jp-border-color2, #e0e0e0);\n",
       "  --xr-disabled-color: var(--jp-layout-color3, #bdbdbd);\n",
       "  --xr-background-color: var(--jp-layout-color0, white);\n",
       "  --xr-background-color-row-even: var(--jp-layout-color1, white);\n",
       "  --xr-background-color-row-odd: var(--jp-layout-color2, #eeeeee);\n",
       "}\n",
       "\n",
       "html[theme=dark],\n",
       "body.vscode-dark {\n",
       "  --xr-font-color0: rgba(255, 255, 255, 1);\n",
       "  --xr-font-color2: rgba(255, 255, 255, 0.54);\n",
       "  --xr-font-color3: rgba(255, 255, 255, 0.38);\n",
       "  --xr-border-color: #1F1F1F;\n",
       "  --xr-disabled-color: #515151;\n",
       "  --xr-background-color: #111111;\n",
       "  --xr-background-color-row-even: #111111;\n",
       "  --xr-background-color-row-odd: #313131;\n",
       "}\n",
       "\n",
       ".xr-wrap {\n",
       "  display: block;\n",
       "  min-width: 300px;\n",
       "  max-width: 700px;\n",
       "}\n",
       "\n",
       ".xr-text-repr-fallback {\n",
       "  /* fallback to plain text repr when CSS is not injected (untrusted notebook) */\n",
       "  display: none;\n",
       "}\n",
       "\n",
       ".xr-header {\n",
       "  padding-top: 6px;\n",
       "  padding-bottom: 6px;\n",
       "  margin-bottom: 4px;\n",
       "  border-bottom: solid 1px var(--xr-border-color);\n",
       "}\n",
       "\n",
       ".xr-header > div,\n",
       ".xr-header > ul {\n",
       "  display: inline;\n",
       "  margin-top: 0;\n",
       "  margin-bottom: 0;\n",
       "}\n",
       "\n",
       ".xr-obj-type,\n",
       ".xr-array-name {\n",
       "  margin-left: 2px;\n",
       "  margin-right: 10px;\n",
       "}\n",
       "\n",
       ".xr-obj-type {\n",
       "  color: var(--xr-font-color2);\n",
       "}\n",
       "\n",
       ".xr-sections {\n",
       "  padding-left: 0 !important;\n",
       "  display: grid;\n",
       "  grid-template-columns: 150px auto auto 1fr 20px 20px;\n",
       "}\n",
       "\n",
       ".xr-section-item {\n",
       "  display: contents;\n",
       "}\n",
       "\n",
       ".xr-section-item input {\n",
       "  display: none;\n",
       "}\n",
       "\n",
       ".xr-section-item input + label {\n",
       "  color: var(--xr-disabled-color);\n",
       "}\n",
       "\n",
       ".xr-section-item input:enabled + label {\n",
       "  cursor: pointer;\n",
       "  color: var(--xr-font-color2);\n",
       "}\n",
       "\n",
       ".xr-section-item input:enabled + label:hover {\n",
       "  color: var(--xr-font-color0);\n",
       "}\n",
       "\n",
       ".xr-section-summary {\n",
       "  grid-column: 1;\n",
       "  color: var(--xr-font-color2);\n",
       "  font-weight: 500;\n",
       "}\n",
       "\n",
       ".xr-section-summary > span {\n",
       "  display: inline-block;\n",
       "  padding-left: 0.5em;\n",
       "}\n",
       "\n",
       ".xr-section-summary-in:disabled + label {\n",
       "  color: var(--xr-font-color2);\n",
       "}\n",
       "\n",
       ".xr-section-summary-in + label:before {\n",
       "  display: inline-block;\n",
       "  content: '►';\n",
       "  font-size: 11px;\n",
       "  width: 15px;\n",
       "  text-align: center;\n",
       "}\n",
       "\n",
       ".xr-section-summary-in:disabled + label:before {\n",
       "  color: var(--xr-disabled-color);\n",
       "}\n",
       "\n",
       ".xr-section-summary-in:checked + label:before {\n",
       "  content: '▼';\n",
       "}\n",
       "\n",
       ".xr-section-summary-in:checked + label > span {\n",
       "  display: none;\n",
       "}\n",
       "\n",
       ".xr-section-summary,\n",
       ".xr-section-inline-details {\n",
       "  padding-top: 4px;\n",
       "  padding-bottom: 4px;\n",
       "}\n",
       "\n",
       ".xr-section-inline-details {\n",
       "  grid-column: 2 / -1;\n",
       "}\n",
       "\n",
       ".xr-section-details {\n",
       "  display: none;\n",
       "  grid-column: 1 / -1;\n",
       "  margin-bottom: 5px;\n",
       "}\n",
       "\n",
       ".xr-section-summary-in:checked ~ .xr-section-details {\n",
       "  display: contents;\n",
       "}\n",
       "\n",
       ".xr-array-wrap {\n",
       "  grid-column: 1 / -1;\n",
       "  display: grid;\n",
       "  grid-template-columns: 20px auto;\n",
       "}\n",
       "\n",
       ".xr-array-wrap > label {\n",
       "  grid-column: 1;\n",
       "  vertical-align: top;\n",
       "}\n",
       "\n",
       ".xr-preview {\n",
       "  color: var(--xr-font-color3);\n",
       "}\n",
       "\n",
       ".xr-array-preview,\n",
       ".xr-array-data {\n",
       "  padding: 0 5px !important;\n",
       "  grid-column: 2;\n",
       "}\n",
       "\n",
       ".xr-array-data,\n",
       ".xr-array-in:checked ~ .xr-array-preview {\n",
       "  display: none;\n",
       "}\n",
       "\n",
       ".xr-array-in:checked ~ .xr-array-data,\n",
       ".xr-array-preview {\n",
       "  display: inline-block;\n",
       "}\n",
       "\n",
       ".xr-dim-list {\n",
       "  display: inline-block !important;\n",
       "  list-style: none;\n",
       "  padding: 0 !important;\n",
       "  margin: 0;\n",
       "}\n",
       "\n",
       ".xr-dim-list li {\n",
       "  display: inline-block;\n",
       "  padding: 0;\n",
       "  margin: 0;\n",
       "}\n",
       "\n",
       ".xr-dim-list:before {\n",
       "  content: '(';\n",
       "}\n",
       "\n",
       ".xr-dim-list:after {\n",
       "  content: ')';\n",
       "}\n",
       "\n",
       ".xr-dim-list li:not(:last-child):after {\n",
       "  content: ',';\n",
       "  padding-right: 5px;\n",
       "}\n",
       "\n",
       ".xr-has-index {\n",
       "  font-weight: bold;\n",
       "}\n",
       "\n",
       ".xr-var-list,\n",
       ".xr-var-item {\n",
       "  display: contents;\n",
       "}\n",
       "\n",
       ".xr-var-item > div,\n",
       ".xr-var-item label,\n",
       ".xr-var-item > .xr-var-name span {\n",
       "  background-color: var(--xr-background-color-row-even);\n",
       "  margin-bottom: 0;\n",
       "}\n",
       "\n",
       ".xr-var-item > .xr-var-name:hover span {\n",
       "  padding-right: 5px;\n",
       "}\n",
       "\n",
       ".xr-var-list > li:nth-child(odd) > div,\n",
       ".xr-var-list > li:nth-child(odd) > label,\n",
       ".xr-var-list > li:nth-child(odd) > .xr-var-name span {\n",
       "  background-color: var(--xr-background-color-row-odd);\n",
       "}\n",
       "\n",
       ".xr-var-name {\n",
       "  grid-column: 1;\n",
       "}\n",
       "\n",
       ".xr-var-dims {\n",
       "  grid-column: 2;\n",
       "}\n",
       "\n",
       ".xr-var-dtype {\n",
       "  grid-column: 3;\n",
       "  text-align: right;\n",
       "  color: var(--xr-font-color2);\n",
       "}\n",
       "\n",
       ".xr-var-preview {\n",
       "  grid-column: 4;\n",
       "}\n",
       "\n",
       ".xr-var-name,\n",
       ".xr-var-dims,\n",
       ".xr-var-dtype,\n",
       ".xr-preview,\n",
       ".xr-attrs dt {\n",
       "  white-space: nowrap;\n",
       "  overflow: hidden;\n",
       "  text-overflow: ellipsis;\n",
       "  padding-right: 10px;\n",
       "}\n",
       "\n",
       ".xr-var-name:hover,\n",
       ".xr-var-dims:hover,\n",
       ".xr-var-dtype:hover,\n",
       ".xr-attrs dt:hover {\n",
       "  overflow: visible;\n",
       "  width: auto;\n",
       "  z-index: 1;\n",
       "}\n",
       "\n",
       ".xr-var-attrs,\n",
       ".xr-var-data {\n",
       "  display: none;\n",
       "  background-color: var(--xr-background-color) !important;\n",
       "  padding-bottom: 5px !important;\n",
       "}\n",
       "\n",
       ".xr-var-attrs-in:checked ~ .xr-var-attrs,\n",
       ".xr-var-data-in:checked ~ .xr-var-data {\n",
       "  display: block;\n",
       "}\n",
       "\n",
       ".xr-var-data > table {\n",
       "  float: right;\n",
       "}\n",
       "\n",
       ".xr-var-name span,\n",
       ".xr-var-data,\n",
       ".xr-attrs {\n",
       "  padding-left: 25px !important;\n",
       "}\n",
       "\n",
       ".xr-attrs,\n",
       ".xr-var-attrs,\n",
       ".xr-var-data {\n",
       "  grid-column: 1 / -1;\n",
       "}\n",
       "\n",
       "dl.xr-attrs {\n",
       "  padding: 0;\n",
       "  margin: 0;\n",
       "  display: grid;\n",
       "  grid-template-columns: 125px auto;\n",
       "}\n",
       "\n",
       ".xr-attrs dt, dd {\n",
       "  padding: 0;\n",
       "  margin: 0;\n",
       "  float: left;\n",
       "  padding-right: 10px;\n",
       "  width: auto;\n",
       "}\n",
       "\n",
       ".xr-attrs dt {\n",
       "  font-weight: normal;\n",
       "  grid-column: 1;\n",
       "}\n",
       "\n",
       ".xr-attrs dt:hover span {\n",
       "  display: inline-block;\n",
       "  background: var(--xr-background-color);\n",
       "  padding-right: 10px;\n",
       "}\n",
       "\n",
       ".xr-attrs dd {\n",
       "  grid-column: 2;\n",
       "  white-space: pre-wrap;\n",
       "  word-break: break-all;\n",
       "}\n",
       "\n",
       ".xr-icon-database,\n",
       ".xr-icon-file-text2 {\n",
       "  display: inline-block;\n",
       "  vertical-align: middle;\n",
       "  width: 1em;\n",
       "  height: 1.5em !important;\n",
       "  stroke-width: 0;\n",
       "  stroke: currentColor;\n",
       "  fill: currentColor;\n",
       "}\n",
       "</style><pre class='xr-text-repr-fallback'>&lt;xarray.Dataset&gt;\n",
       "Dimensions:      (lat: 180, lon: 360, time: 219)\n",
       "Coordinates:\n",
       "  * lat          (lat) float64 -89.5 -88.5 -87.5 -86.5 ... 86.5 87.5 88.5 89.5\n",
       "  * lon          (lon) float64 -179.5 -178.5 -177.5 -176.5 ... 177.5 178.5 179.5\n",
       "  * time         (time) float64 7.314e+05 7.314e+05 ... 7.38e+05 7.38e+05\n",
       "Data variables:\n",
       "    Reflectance  (time, lon, lat) float64 ...</pre><div class='xr-wrap' hidden><div class='xr-header'><div class='xr-obj-type'>xarray.Dataset</div></div><ul class='xr-sections'><li class='xr-section-item'><input id='section-b08bf0b6-0eb5-41a8-a16f-8cf2af7303cf' class='xr-section-summary-in' type='checkbox' disabled ><label for='section-b08bf0b6-0eb5-41a8-a16f-8cf2af7303cf' class='xr-section-summary'  title='Expand/collapse section'>Dimensions:</label><div class='xr-section-inline-details'><ul class='xr-dim-list'><li><span class='xr-has-index'>lat</span>: 180</li><li><span class='xr-has-index'>lon</span>: 360</li><li><span class='xr-has-index'>time</span>: 219</li></ul></div><div class='xr-section-details'></div></li><li class='xr-section-item'><input id='section-db011cef-8526-4267-acfb-2c884f3fbed8' class='xr-section-summary-in' type='checkbox'  checked><label for='section-db011cef-8526-4267-acfb-2c884f3fbed8' class='xr-section-summary' >Coordinates: <span>(3)</span></label><div class='xr-section-inline-details'></div><div class='xr-section-details'><ul class='xr-var-list'><li class='xr-var-item'><div class='xr-var-name'><span class='xr-has-index'>lat</span></div><div class='xr-var-dims'>(lat)</div><div class='xr-var-dtype'>float64</div><div class='xr-var-preview xr-preview'>-89.5 -88.5 -87.5 ... 88.5 89.5</div><input id='attrs-7a0e4ab8-9fd2-463d-8e42-a90f32821bcc' class='xr-var-attrs-in' type='checkbox' disabled><label for='attrs-7a0e4ab8-9fd2-463d-8e42-a90f32821bcc' title='Show/Hide attributes'><svg class='icon xr-icon-file-text2'><use xlink:href='#icon-file-text2'></use></svg></label><input id='data-1ed501b3-258c-48d0-bed2-db26b6bb6719' class='xr-var-data-in' type='checkbox'><label for='data-1ed501b3-258c-48d0-bed2-db26b6bb6719' title='Show/Hide data repr'><svg class='icon xr-icon-database'><use xlink:href='#icon-database'></use></svg></label><div class='xr-var-attrs'><dl class='xr-attrs'></dl></div><div class='xr-var-data'><pre>array([-89.5, -88.5, -87.5, -86.5, -85.5, -84.5, -83.5, -82.5, -81.5, -80.5,\n",
       "       -79.5, -78.5, -77.5, -76.5, -75.5, -74.5, -73.5, -72.5, -71.5, -70.5,\n",
       "       -69.5, -68.5, -67.5, -66.5, -65.5, -64.5, -63.5, -62.5, -61.5, -60.5,\n",
       "       -59.5, -58.5, -57.5, -56.5, -55.5, -54.5, -53.5, -52.5, -51.5, -50.5,\n",
       "       -49.5, -48.5, -47.5, -46.5, -45.5, -44.5, -43.5, -42.5, -41.5, -40.5,\n",
       "       -39.5, -38.5, -37.5, -36.5, -35.5, -34.5, -33.5, -32.5, -31.5, -30.5,\n",
       "       -29.5, -28.5, -27.5, -26.5, -25.5, -24.5, -23.5, -22.5, -21.5, -20.5,\n",
       "       -19.5, -18.5, -17.5, -16.5, -15.5, -14.5, -13.5, -12.5, -11.5, -10.5,\n",
       "        -9.5,  -8.5,  -7.5,  -6.5,  -5.5,  -4.5,  -3.5,  -2.5,  -1.5,  -0.5,\n",
       "         0.5,   1.5,   2.5,   3.5,   4.5,   5.5,   6.5,   7.5,   8.5,   9.5,\n",
       "        10.5,  11.5,  12.5,  13.5,  14.5,  15.5,  16.5,  17.5,  18.5,  19.5,\n",
       "        20.5,  21.5,  22.5,  23.5,  24.5,  25.5,  26.5,  27.5,  28.5,  29.5,\n",
       "        30.5,  31.5,  32.5,  33.5,  34.5,  35.5,  36.5,  37.5,  38.5,  39.5,\n",
       "        40.5,  41.5,  42.5,  43.5,  44.5,  45.5,  46.5,  47.5,  48.5,  49.5,\n",
       "        50.5,  51.5,  52.5,  53.5,  54.5,  55.5,  56.5,  57.5,  58.5,  59.5,\n",
       "        60.5,  61.5,  62.5,  63.5,  64.5,  65.5,  66.5,  67.5,  68.5,  69.5,\n",
       "        70.5,  71.5,  72.5,  73.5,  74.5,  75.5,  76.5,  77.5,  78.5,  79.5,\n",
       "        80.5,  81.5,  82.5,  83.5,  84.5,  85.5,  86.5,  87.5,  88.5,  89.5])</pre></div></li><li class='xr-var-item'><div class='xr-var-name'><span class='xr-has-index'>lon</span></div><div class='xr-var-dims'>(lon)</div><div class='xr-var-dtype'>float64</div><div class='xr-var-preview xr-preview'>-179.5 -178.5 ... 178.5 179.5</div><input id='attrs-e4097f22-ef7f-4972-b0f8-c44288c07c44' class='xr-var-attrs-in' type='checkbox' disabled><label for='attrs-e4097f22-ef7f-4972-b0f8-c44288c07c44' title='Show/Hide attributes'><svg class='icon xr-icon-file-text2'><use xlink:href='#icon-file-text2'></use></svg></label><input id='data-29bcc0bc-bd73-452f-8b31-294cf925b2a7' class='xr-var-data-in' type='checkbox'><label for='data-29bcc0bc-bd73-452f-8b31-294cf925b2a7' title='Show/Hide data repr'><svg class='icon xr-icon-database'><use xlink:href='#icon-database'></use></svg></label><div class='xr-var-attrs'><dl class='xr-attrs'></dl></div><div class='xr-var-data'><pre>array([-179.5, -178.5, -177.5, ...,  177.5,  178.5,  179.5])</pre></div></li><li class='xr-var-item'><div class='xr-var-name'><span class='xr-has-index'>time</span></div><div class='xr-var-dims'>(time)</div><div class='xr-var-dtype'>float64</div><div class='xr-var-preview xr-preview'>7.314e+05 7.314e+05 ... 7.38e+05</div><input id='attrs-c86adbb8-f6c2-4629-9cc9-b00c6088925f' class='xr-var-attrs-in' type='checkbox' disabled><label for='attrs-c86adbb8-f6c2-4629-9cc9-b00c6088925f' title='Show/Hide attributes'><svg class='icon xr-icon-file-text2'><use xlink:href='#icon-file-text2'></use></svg></label><input id='data-cec3a352-2021-4930-89e1-62a24fe39f14' class='xr-var-data-in' type='checkbox'><label for='data-cec3a352-2021-4930-89e1-62a24fe39f14' title='Show/Hide data repr'><svg class='icon xr-icon-database'><use xlink:href='#icon-database'></use></svg></label><div class='xr-var-attrs'><dl class='xr-attrs'></dl></div><div class='xr-var-data'><pre>array([731398., 731429., 731460., ..., 737973., 738004., 738035.])</pre></div></li></ul></div></li><li class='xr-section-item'><input id='section-c67ed83b-c5ea-488b-ad62-186041ffc5de' class='xr-section-summary-in' type='checkbox'  checked><label for='section-c67ed83b-c5ea-488b-ad62-186041ffc5de' class='xr-section-summary' >Data variables: <span>(1)</span></label><div class='xr-section-inline-details'></div><div class='xr-section-details'><ul class='xr-var-list'><li class='xr-var-item'><div class='xr-var-name'><span>Reflectance</span></div><div class='xr-var-dims'>(time, lon, lat)</div><div class='xr-var-dtype'>float64</div><div class='xr-var-preview xr-preview'>...</div><input id='attrs-51adae52-2486-4bf7-b9a0-c1e712dcd338' class='xr-var-attrs-in' type='checkbox' disabled><label for='attrs-51adae52-2486-4bf7-b9a0-c1e712dcd338' title='Show/Hide attributes'><svg class='icon xr-icon-file-text2'><use xlink:href='#icon-file-text2'></use></svg></label><input id='data-add08c1b-a442-4398-9855-e7d1c61d5b07' class='xr-var-data-in' type='checkbox'><label for='data-add08c1b-a442-4398-9855-e7d1c61d5b07' title='Show/Hide data repr'><svg class='icon xr-icon-database'><use xlink:href='#icon-database'></use></svg></label><div class='xr-var-attrs'><dl class='xr-attrs'></dl></div><div class='xr-var-data'><pre>[14191200 values with dtype=float64]</pre></div></li></ul></div></li><li class='xr-section-item'><input id='section-47df7690-ce87-4fe2-9f21-9eeba96cc4f7' class='xr-section-summary-in' type='checkbox' disabled ><label for='section-47df7690-ce87-4fe2-9f21-9eeba96cc4f7' class='xr-section-summary'  title='Expand/collapse section'>Attributes: <span>(0)</span></label><div class='xr-section-inline-details'></div><div class='xr-section-details'><dl class='xr-attrs'></dl></div></li></ul></div></div>"
      ],
      "text/plain": [
       "<xarray.Dataset>\n",
       "Dimensions:      (lat: 180, lon: 360, time: 219)\n",
       "Coordinates:\n",
       "  * lat          (lat) float64 -89.5 -88.5 -87.5 -86.5 ... 86.5 87.5 88.5 89.5\n",
       "  * lon          (lon) float64 -179.5 -178.5 -177.5 -176.5 ... 177.5 178.5 179.5\n",
       "  * time         (time) float64 7.314e+05 7.314e+05 ... 7.38e+05 7.38e+05\n",
       "Data variables:\n",
       "    Reflectance  (time, lon, lat) float64 ..."
      ]
     },
     "execution_count": 8,
     "metadata": {},
     "output_type": "execute_result"
    }
   ],
   "source": [
    "cirrus = xr.open_dataset(f)\n",
    "cirrus"
   ]
  },
  {
   "cell_type": "code",
   "execution_count": null,
   "metadata": {},
   "outputs": [],
   "source": [
    "#f.close()"
   ]
  },
  {
   "cell_type": "markdown",
   "metadata": {},
   "source": [
    "Note that the time is given by an integer; I'll need to convert to a datetime object."
   ]
  },
  {
   "cell_type": "markdown",
   "metadata": {},
   "source": [
    "First, though, I had to fix an issue with the integers values, since they are a year and a day off from what they should be. "
   ]
  },
  {
   "cell_type": "code",
   "execution_count": 10,
   "metadata": {},
   "outputs": [
    {
     "name": "stdout",
     "output_type": "stream",
     "text": [
      "2003-07-02 00:00:00\n",
      "2021-09-02 00:00:00\n"
     ]
    }
   ],
   "source": [
    "test1 = datetime.fromordinal(cirrus.time[0])\n",
    "print(test1)\n",
    "test2 = datetime.fromordinal(cirrus.time[218])\n",
    "print(test2)"
   ]
  },
  {
   "cell_type": "code",
   "execution_count": 11,
   "metadata": {},
   "outputs": [],
   "source": [
    "discrepancy = 366\n",
    "date = []\n",
    "timenum = cirrus['time'] - discrepancy\n",
    "\n",
    "for i in cirrus.time:\n",
    "    date.append(datetime.fromordinal(i-discrepancy))\n",
    "    \n",
    "cirrus['time'] = date"
   ]
  },
  {
   "cell_type": "markdown",
   "metadata": {},
   "source": [
    "I must have made a mistake when writing the netcdf file. I'll also need to rotate my data and flip the coordinate values on my latitude axis. "
   ]
  },
  {
   "cell_type": "code",
   "execution_count": 12,
   "metadata": {},
   "outputs": [],
   "source": [
    "cirrus = cirrus.transpose('lat', 'lon', 'time')\n",
    "latflip = (cirrus.lat)*-1\n",
    "cirrus['lat'] = latflip"
   ]
  },
  {
   "cell_type": "markdown",
   "metadata": {},
   "source": [
    "### Finding the Average Monthly Cirrus Reflectance"
   ]
  },
  {
   "cell_type": "markdown",
   "metadata": {},
   "source": [
    "Before I look at how things are changing, I first need to understand what the typical patterns are. To get a qualitative understanding of cirrus distributions, I found the mean monthly reflectance and standard deviation for each gridpoint."
   ]
  },
  {
   "cell_type": "code",
   "execution_count": 13,
   "metadata": {},
   "outputs": [],
   "source": [
    "mm = cirrus.groupby('time.month').mean(dim='time',skipna=False)\n",
    "#ms = cirrus.groupby('time.month').std(dim='time', skipna=False) #removed for run-time considerations"
   ]
  },
  {
   "cell_type": "code",
   "execution_count": null,
   "metadata": {},
   "outputs": [],
   "source": [
    "monthnames = ['Jan','Feb','Mar','Apr','May','Jun','Jul','Aug','Sep','Oct','Nov','Dec']\n",
    "\n",
    "mp = mm.Reflectance.plot(x='lon',y='lat',\n",
    "                    col='month',\n",
    "                    col_wrap=3, \n",
    "                    cmap='Blues_r',\n",
    "                    figsize = (20,13), \n",
    "                    vmin=0, \n",
    "                    vmax=.2,\n",
    "                    )                    \n",
    "\n",
    "for i, ax in enumerate(mp.axes.flat):\n",
    "    ax.set_title(monthnames[i])\n",
    "    \n",
    "mp.fig.suptitle('Mean Monthly Cirrus Reflectance (7/2002-9/2020)', y=1.02, x=.425, fontsize=18)\n",
    ";"
   ]
  },
  {
   "cell_type": "markdown",
   "metadata": {},
   "source": [
    "Now I'll look at the average global seasonal cycle, but first I'll need to weight the areas. "
   ]
  },
  {
   "cell_type": "code",
   "execution_count": null,
   "metadata": {},
   "outputs": [],
   "source": [
    "wvec = np.cos(np.deg2rad(cirrus.lat)) / np.cos(np.deg2rad(cirrus.lat)).mean()\n",
    "weight , lon = xr.broadcast(wvec, cirrus.lon)\n",
    "mm_aw = np.multiply(weight, mm)\n",
    "cirrus_aw = np.multiply(weight, cirrus)"
   ]
  },
  {
   "cell_type": "markdown",
   "metadata": {},
   "source": [
    "For comparison, I'll consider zonal averages as well. "
   ]
  },
  {
   "cell_type": "code",
   "execution_count": null,
   "metadata": {},
   "outputs": [],
   "source": [
    "binlabels = ['Polar_nh','Midlats_nh','Tropics_nh','Tropics_sh','Midlats_sh','Polar_sh']\n",
    "zonal = cirrus_aw.groupby_bins(cirrus_aw.lat, 6, labels=binlabels).mean()"
   ]
  },
  {
   "cell_type": "markdown",
   "metadata": {},
   "source": [
    "I'll want to consider the standard error as well. Now I'll plot the global and zonal annual cycles, as well as the error for each month in the global series. "
   ]
  },
  {
   "cell_type": "code",
   "execution_count": null,
   "metadata": {},
   "outputs": [],
   "source": [
    "annual = mm_aw.mean(dim=['lon','lat'])\n",
    "SE = cirrus_aw.mean(dim=['lon','lat']).groupby('time.month').mean(dim='time')/np.sqrt(cirrus_aw.mean(dim=['lon','lat']).groupby('time.month').count())\n",
    "\n",
    "fig, ax = plt.subplots()\n",
    "\n",
    "ax.errorbar(annual.month, \n",
    "            annual.Reflectance, \n",
    "            yerr=SE.Reflectance)\n",
    "\n",
    "latbands = ['Polar NH', 'MidLat NH', 'Tropics NH', 'Tropics SH', 'MidLat SH', 'Polar SH']\n",
    "colorchoice = ['orange','green','red','red','green','orange']\n",
    "linechoice = ['-.','-.','-.','--','--','--']\n",
    "\n",
    "i=0;\n",
    "for group in zonal.Reflectance:\n",
    "    label = latbands[i]\n",
    "    lc = linechoice[i]\n",
    "    cc = colorchoice[i]\n",
    "    i=i+1\n",
    "    group.mean(dim='lon').groupby('time.month').mean(dim='time').plot.line(alpha=.4, \n",
    "                                                                           linestyle=lc,\n",
    "                                                                           color=cc,\n",
    "                                                                           ax=ax,\n",
    "                                                                           label=label\n",
    "                                                                          )\n",
    "handles, labels = ax.get_legend_handles_labels()\n",
    "ax.legend(latbands);\n",
    "ax.set_ylabel('Reflectance')\n",
    "ax.set_xlabel('Month')\n",
    "ax.set_xticks([1,2,3,4,5,6,7,8,9,10,11,12])\n",
    "ax.set_xticklabels(monthnames)\n",
    "ax.set_title('Area-Weighted Mean Monthly Global Cirrus Reflectance (7/2002-9/2020)')\n",
    "\n",
    "\n",
    "plt.show()\n",
    "\n",
    ";"
   ]
  },
  {
   "cell_type": "markdown",
   "metadata": {},
   "source": [
    "Notice that the errorbars on the global mean monthly reflectance overshaddow the seasonality. As you would expect, corresponding zones in the respective hemispheres show broadly opposite seasonal cycles. However it is notable that the midlatitudes and tropics in the same hemispheres also show opposing seasonal cycles. Note that because satellite data measures reflected solar radiation, the polar zones will have limited data in the winter."
   ]
  },
  {
   "cell_type": "markdown",
   "metadata": {},
   "source": [
    "### Is Global Cirrus Reflectance Increasing with Time?"
   ]
  },
  {
   "cell_type": "markdown",
   "metadata": {},
   "source": [
    "Now I'll consider the timeseries. As might be expected, the noisiness of the data makes it difficult to perceive any obvious trend. By resampling the monthly anomalies at 1 year I can remove the seasonal cycle and (perhaps) more easily perceive larger trends. I will consider standardized anomalies."
   ]
  },
  {
   "cell_type": "code",
   "execution_count": null,
   "metadata": {},
   "outputs": [],
   "source": [
    "fig, ax = plt.subplots()\n",
    "\n",
    "am_aw = cirrus_aw.mean(dim=['lat','lon']).resample(time='Y', loffset='-1Y').mean()\n",
    "am_anom_gl = am_aw - am_aw.mean()\n",
    "am_stanom_gl = am_anom_gl/am_anom_gl.std(dim='time')\n",
    "am_stanom_gl.Reflectance.plot(ax=ax)\n",
    "\n",
    "mm_anom_gl = cirrus_aw.mean(dim=['lat','lon']).groupby('time.month') - cirrus_aw.mean(dim=['lat','lon']).groupby('time.month').mean(dim='time')\n",
    "mm_stanom_gl = mm_anom_gl.groupby('time.month')/cirrus_aw.mean(dim=['lat','lon']).groupby('time.month').std(dim='time')\n",
    "mm_stanom_gl.Reflectance.plot(alpha=.3, color='gray', linestyle='--', ax=ax)\n",
    "\n",
    "\n",
    "y=np.array(am_stanom_gl['Reflectance'].dropna(dim='time').values, dtype=float)\n",
    "x=np.array(am_stanom_gl['time'].dropna(dim='time').values, dtype=float)\n",
    "slope, intercept, r_value, p_value, std_err =sp.linregress(x,y)\n",
    "xf = np.linspace(min(x),max(x),19)\n",
    "xf1 = xf.copy()\n",
    "yf = (slope*xf)+intercept\n",
    "\n",
    "ax.plot(am_stanom_gl.time,yf, color='rosybrown')\n",
    "\n",
    "ax.set_xlabel('Year')\n",
    "ax.set_title('Area-Weighted Global Mean Monthly Standardized Cirrus Reflectance Anomaly (7/2002-9/2020), Resampled at 1 Year')\n",
    ";"
   ]
  },
  {
   "cell_type": "markdown",
   "metadata": {},
   "source": [
    "While the overall trend is not significant, the 2020 anomaly is strinking at 3 standard deviations below the mean. I'm curious whether the reduction in air travel this year, or perhaps global reductions in aerosols (which can act as CCNs), may have contributed to this. However, it's also notable that I only have data for the first 9 months of 2020. I'll be able to test the significance of this reduction more definitively once I have data from the rest of the year. "
   ]
  },
  {
   "cell_type": "markdown",
   "metadata": {},
   "source": [
    "I'll also consider the timeseries of the different zones identified above. "
   ]
  },
  {
   "cell_type": "code",
   "execution_count": null,
   "metadata": {},
   "outputs": [],
   "source": [
    "fig, ax = plt.subplots(nrows=3, ncols=2, tight_layout=True)\n",
    "\n",
    "i=0;\n",
    "for group in zonal.Reflectance:\n",
    "    label = latbands[i]\n",
    "    lc = linechoice[i]\n",
    "    cc = colorchoice[i]\n",
    "    \n",
    "    r = np.absolute(2-np.floor(np.absolute(i-2.5))).astype(int)\n",
    "    c = np.floor(i/3).astype(int)\n",
    "    \n",
    "    g_res = group.mean(dim='lon').resample(time='Y', loffset='-1Y').mean()\n",
    "    g_anom = g_res - g_res.mean()\n",
    "    g_stanom = g_anom/g_anom.std(dim='time')\n",
    "    g_stanom.plot(linestyle=lc,\n",
    "                  color=cc, \n",
    "                  ax=ax[r,c], \n",
    "                )\n",
    "    ax[r,c].set_ylim((-2, 2)) \n",
    "    ax[r,c].title.set_text(latbands[i])\n",
    "    ax[r,c].set_xlabel('Year')\n",
    "    i=i+1\n",
    "\n",
    "fig.suptitle('Area-Weighted Annual Zonal Mean Standardized Cirrus Reflectance Anomaly (7/2002-9/2020)', fontsize=13)\n",
    "plt.show()\n",
    ";"
   ]
  },
  {
   "cell_type": "markdown",
   "metadata": {},
   "source": [
    "### Mapping 2020 Anomalies"
   ]
  },
  {
   "cell_type": "markdown",
   "metadata": {},
   "source": [
    "Because 2020 anomaly was so anomalous, I want to look at this year more closely. I'll plot the average global mean monthly anomalies for the first 9 months."
   ]
  },
  {
   "cell_type": "code",
   "execution_count": null,
   "metadata": {},
   "outputs": [],
   "source": [
    "anom = (cirrus.groupby('time.month') - cirrus.groupby('time.month').mean(dim='time', skipna=False))\n",
    "stdev = anom.groupby('time.month').std(dim='time')\n",
    "stanom = anom.groupby('time.month')/stdev\n",
    "stanom2020 = stanom.sel(time=slice(\"2020-01-01\", \"2020-09-01\")).mean(dim='time')\n",
    "\n",
    "fig = plt.figure(figsize = (18,10))\n",
    "ax = plt.axes(projection = ccrs.Mollweide())\n",
    "\n",
    "ax.coastlines(resolution='50m', color='black', linewidth=1)\n",
    "ax.gridlines()\n",
    "stanom2020.Reflectance.plot(ax=ax,\n",
    "                           transform=ccrs.PlateCarree(),\n",
    "                           cmap='RdBu_r',  \n",
    "                        )\n",
    "\n",
    "ax.set_title('Standardized Cirrus Reflectance Anomalies (Jan-Sep 2020)', y=1.05, x=.525, fontsize=14)\n",
    ";"
   ]
  },
  {
   "cell_type": "markdown",
   "metadata": {},
   "source": [
    "### Just for Fun"
   ]
  },
  {
   "cell_type": "markdown",
   "metadata": {},
   "source": [
    "How do zonal mean cirrus clouds change with time? Here I visualize the timeseries of mean zonal reflectance using a Hovmoller-inspired diagram, with the goal of qualitatively assessing any trends in the distribution of cirrus reflectance that could involve both latitudinal and temporal shifts. However, the resulting figure is remarkably regular and it appears that any global trends in cirrus distribution are slight at best. "
   ]
  },
  {
   "cell_type": "code",
   "execution_count": null,
   "metadata": {},
   "outputs": [],
   "source": [
    "fig, ax = plt.subplots(figsize = (18,10))\n",
    "\n",
    "zonal = cirrus.mean(dim='lon')\n",
    "zonal.Reflectance.plot(cmap='Blues_r', \n",
    "                       vmax=.15, \n",
    "                       vmin=.0, \n",
    "                       ax=ax,\n",
    "                       )\n",
    "\n",
    "ax.set_title('Mean Zonal Cirrus Reflectance from Jan 2002 to Sept 2020', fontsize=14, y=1.02)\n",
    "ax.set_xlabel('Year')\n",
    "ax.set_ylabel('Latitude')\n",
    ";"
   ]
  }
 ],
 "metadata": {
  "kernelspec": {
   "display_name": "Python 3",
   "language": "python",
   "name": "python3"
  },
  "language_info": {
   "codemirror_mode": {
    "name": "ipython",
    "version": 3
   },
   "file_extension": ".py",
   "mimetype": "text/x-python",
   "name": "python",
   "nbconvert_exporter": "python",
   "pygments_lexer": "ipython3",
   "version": "3.7.8"
  }
 },
 "nbformat": 4,
 "nbformat_minor": 4
}
